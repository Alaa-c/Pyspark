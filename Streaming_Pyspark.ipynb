{
  "cells": [
    {
      "cell_type": "code",
      "execution_count": 1,
      "id": "60f97978",
      "metadata": {
        "id": "60f97978",
        "colab": {
          "base_uri": "https://localhost:8080/"
        },
        "outputId": "f12bc99a-e640-4d2b-dd71-5861b9f58acf"
      },
      "outputs": [
        {
          "output_type": "stream",
          "name": "stdout",
          "text": [
            "Looking in indexes: https://pypi.org/simple, https://us-python.pkg.dev/colab-wheels/public/simple/\n",
            "Collecting pyspark\n",
            "  Downloading pyspark-3.3.0.tar.gz (281.3 MB)\n",
            "\u001b[K     |████████████████████████████████| 281.3 MB 44 kB/s \n",
            "\u001b[?25hCollecting py4j==0.10.9.5\n",
            "  Downloading py4j-0.10.9.5-py2.py3-none-any.whl (199 kB)\n",
            "\u001b[K     |████████████████████████████████| 199 kB 68.0 MB/s \n",
            "\u001b[?25hBuilding wheels for collected packages: pyspark\n",
            "  Building wheel for pyspark (setup.py) ... \u001b[?25l\u001b[?25hdone\n",
            "  Created wheel for pyspark: filename=pyspark-3.3.0-py2.py3-none-any.whl size=281764026 sha256=e812a8ea0c8060d9a2301878ac2ce76cf961888662325cf74c3c160de4ced77c\n",
            "  Stored in directory: /root/.cache/pip/wheels/7a/8e/1b/f73a52650d2e5f337708d9f6a1750d451a7349a867f928b885\n",
            "Successfully built pyspark\n",
            "Installing collected packages: py4j, pyspark\n",
            "Successfully installed py4j-0.10.9.5 pyspark-3.3.0\n"
          ]
        }
      ],
      "source": [
        "!pip install pyspark"
      ]
    },
    {
      "cell_type": "code",
      "execution_count": 3,
      "id": "201cee8c",
      "metadata": {
        "id": "201cee8c",
        "outputId": "afc9d1ee-f1c1-4283-d07a-58500f110bf3",
        "colab": {
          "base_uri": "https://localhost:8080/",
          "height": 17
        }
      },
      "outputs": [
        {
          "output_type": "display_data",
          "data": {
            "text/plain": [
              "<IPython.core.display.HTML object>"
            ],
            "text/html": [
              "<style>pre { white-space: pre !important; }</style>"
            ]
          },
          "metadata": {}
        }
      ],
      "source": [
        "from IPython.display import display, HTML\n",
        "display(HTML(\"<style>pre { white-space: pre !important; }</style>\"))"
      ]
    },
    {
      "cell_type": "code",
      "source": [
        "from pyspark.sql import SparkSession\n",
        "spark = SparkSession.builder.master(\"local[*]\").appName(\"walmart_data\").getOrCreate()"
      ],
      "metadata": {
        "id": "ZnCCr08ZCWAe"
      },
      "id": "ZnCCr08ZCWAe",
      "execution_count": 2,
      "outputs": []
    },
    {
      "cell_type": "markdown",
      "id": "efac8040",
      "metadata": {
        "id": "efac8040"
      },
      "source": [
        "### Create the schema of the streamed files (check the column names and types from the CSV files)"
      ]
    },
    {
      "cell_type": "code",
      "execution_count": 4,
      "id": "c4674d5d",
      "metadata": {
        "id": "c4674d5d"
      },
      "outputs": [],
      "source": [
        "from pyspark.sql.types import StructType, StructField, StringType, IntegerType , DateType ,DoubleType\n",
        "\n",
        "Schema = StructType([StructField('id', IntegerType(), True),\n",
        "                           StructField('Date', DateType(), True),\n",
        "                           StructField('Open', DoubleType(), True),\n",
        "                           StructField('High', DoubleType(), True),\n",
        "                           StructField('Low', DoubleType(), True),\n",
        "                           StructField('Close', DoubleType(), True),\n",
        "                           StructField('Adj Close', DoubleType(), True),\n",
        "                           StructField('Volume', IntegerType(), True),\n",
        "                           \n",
        "                           \n",
        "                           ])"
      ]
    },
    {
      "cell_type": "markdown",
      "id": "4f50fbeb",
      "metadata": {
        "id": "4f50fbeb"
      },
      "source": [
        "### Create the dataframe by reading the stream using format \"csv\" and the schema you created."
      ]
    },
    {
      "cell_type": "code",
      "execution_count": 5,
      "id": "d77671b2",
      "metadata": {
        "id": "d77671b2"
      },
      "outputs": [],
      "source": [
        "df=spark.readStream.csv(\"/content/sample_data/kospi\",Schema)"
      ]
    },
    {
      "cell_type": "markdown",
      "id": "ce1e0e44",
      "metadata": {
        "id": "ce1e0e44"
      },
      "source": [
        "### Make sure the sataframe is streaming the files from the folder"
      ]
    },
    {
      "cell_type": "code",
      "execution_count": 7,
      "id": "0fc0fa13",
      "metadata": {
        "id": "0fc0fa13",
        "outputId": "d2ce461d-706b-4473-ad1e-3aed8937a7d3",
        "colab": {
          "base_uri": "https://localhost:8080/"
        }
      },
      "outputs": [
        {
          "output_type": "execute_result",
          "data": {
            "text/plain": [
              "True"
            ]
          },
          "metadata": {},
          "execution_count": 7
        }
      ],
      "source": [
        "df.isStreaming"
      ]
    },
    {
      "cell_type": "markdown",
      "id": "ac9d68de",
      "metadata": {
        "id": "ac9d68de"
      },
      "source": [
        "### Create a stream writer into memory and specify the query name \"stock:"
      ]
    },
    {
      "cell_type": "code",
      "execution_count": 8,
      "id": "f40bf944",
      "metadata": {
        "id": "f40bf944"
      },
      "outputs": [],
      "source": [
        "sr=df.writeStream.format('memory').queryName('stock')"
      ]
    },
    {
      "cell_type": "markdown",
      "id": "63a5f9a4",
      "metadata": {
        "id": "63a5f9a4"
      },
      "source": [
        "### Start the write stream and make sure it works (read all columns from the table)"
      ]
    },
    {
      "cell_type": "code",
      "execution_count": null,
      "id": "0d98c6dc",
      "metadata": {
        "id": "0d98c6dc"
      },
      "outputs": [],
      "source": [
        "sr.start()"
      ]
    },
    {
      "cell_type": "code",
      "execution_count": 11,
      "id": "27bebb21",
      "metadata": {
        "id": "27bebb21",
        "outputId": "9ab00fec-bc9a-4704-ea0e-e65e29a2d08c",
        "colab": {
          "base_uri": "https://localhost:8080/"
        }
      },
      "outputs": [
        {
          "output_type": "stream",
          "name": "stdout",
          "text": [
            "+----+----------+------------+------------+------------+------------+------------+------+\n",
            "|  id|      Date|        Open|        High|         Low|       Close|   Adj Close|Volume|\n",
            "+----+----------+------------+------------+------------+------------+------------+------+\n",
            "|null|      null|        null|        null|        null|        null|        null|  null|\n",
            "| 240|2000-12-05|26585.300781|27367.300781|26372.099609|27011.800781|25526.091797| 91019|\n",
            "| 241|2000-12-06|27011.800781|27509.400391|26798.599609|26869.699219|25391.804688|105791|\n",
            "| 242|2000-12-07|27011.800781|27011.800781|26478.699219|26656.400391|25190.236328| 40656|\n",
            "| 243|2000-12-08|26656.400391|27722.699219|26656.400391|27651.599609|26130.699219|149964|\n",
            "| 244|2000-12-11|27687.099609|     28860.0|27651.599609|28078.099609|26533.740234|159671|\n",
            "| 245|2000-12-12|28042.599609|28078.099609|27438.300781|27935.900391|26399.361328| 74560|\n",
            "| 246|2000-12-13|27651.599609|     29286.5|27651.599609|28469.099609|26903.234375|270385|\n",
            "| 247|2000-12-14|28469.099609|29784.099609|28291.300781|28362.400391| 26802.40625|256317|\n",
            "| 248|2000-12-15|28362.400391|28895.599609|27793.800781|27935.900391|26399.361328|108886|\n",
            "| 249|2000-12-18|     27580.5|     28433.5|27367.300781|28291.300781|26735.216797| 92848|\n",
            "| 250|2000-12-19|27722.699219|28788.900391|27651.599609|27651.599609|26130.699219|115779|\n",
            "| 251|2000-12-20|27402.800781|27793.800781|     27154.0|27722.699219|26197.890625| 99601|\n",
            "| 252|2000-12-21|27367.300781|27793.800781|27082.900391|27722.699219|26197.890625|129706|\n",
            "| 253|2000-12-22|27687.099609|     28007.0|27509.400391|     28007.0|26466.550781| 77233|\n",
            "| 254|2000-12-26|     27971.5|31987.699219|27473.900391|     28433.5|26869.591797|131535|\n",
            "| 255|2001-01-02|27367.300781|27367.300781|25945.599609|26656.400391|25190.236328| 64150|\n",
            "| 256|2001-01-03|26585.300781|26656.400391|26016.699219|26656.400391|25190.236328| 37421|\n",
            "| 257|2001-01-04|27367.300781|28078.099609|26905.199219|27082.900391|25593.277344|131254|\n",
            "| 258|2001-01-05|26940.800781|26940.800781|26194.400391|26585.300781|25123.048828| 90316|\n",
            "+----+----------+------------+------------+------------+------------+------------+------+\n",
            "only showing top 20 rows\n",
            "\n"
          ]
        }
      ],
      "source": [
        "spark.sql(\"SELECT* FROM stock\").show()"
      ]
    },
    {
      "cell_type": "markdown",
      "id": "16908fa6",
      "metadata": {
        "id": "16908fa6"
      },
      "source": [
        "### Remove the first row from the data (hint: drop the rows where ALL values are null), then add a new column \"diff\", which is the difference between high and low columns"
      ]
    },
    {
      "cell_type": "code",
      "execution_count": 21,
      "id": "9f2eaa25",
      "metadata": {
        "id": "9f2eaa25"
      },
      "outputs": [],
      "source": [
        "df=df.dropna(how=\"all\")\n",
        "df=df.withColumn(\"diff\",df.High-df.Low)\n"
      ]
    },
    {
      "cell_type": "markdown",
      "id": "1f14581b",
      "metadata": {
        "id": "1f14581b"
      },
      "source": [
        "### Create a new write stream using the new generated dataframe and call the generate table \"modified_data\""
      ]
    },
    {
      "cell_type": "code",
      "execution_count": 22,
      "id": "9fb1be0e",
      "metadata": {
        "id": "9fb1be0e"
      },
      "outputs": [],
      "source": [
        "sr2=df.writeStream.format('memory').queryName(\"modified_data\")"
      ]
    },
    {
      "cell_type": "code",
      "execution_count": 23,
      "id": "969acbbc",
      "metadata": {
        "id": "969acbbc",
        "colab": {
          "base_uri": "https://localhost:8080/"
        },
        "outputId": "55d1914d-29ce-419d-84ea-729f85c6d4ea"
      },
      "outputs": [
        {
          "output_type": "execute_result",
          "data": {
            "text/plain": [
              "<pyspark.sql.streaming.StreamingQuery at 0x7fa25d2ad090>"
            ]
          },
          "metadata": {},
          "execution_count": 23
        }
      ],
      "source": [
        "sr2.start()"
      ]
    },
    {
      "cell_type": "code",
      "execution_count": 24,
      "id": "b3bcedd4",
      "metadata": {
        "id": "b3bcedd4",
        "outputId": "5a16104a-9667-45fc-f346-93f49f0bbb78",
        "colab": {
          "base_uri": "https://localhost:8080/"
        }
      },
      "outputs": [
        {
          "output_type": "stream",
          "name": "stdout",
          "text": [
            "+---+----------+------------+------------+------------+------------+------------+------+------------------+\n",
            "| id|      Date|        Open|        High|         Low|       Close|   Adj Close|Volume|              diff|\n",
            "+---+----------+------------+------------+------------+------------+------------+------+------------------+\n",
            "|240|2000-12-05|26585.300781|27367.300781|26372.099609|27011.800781|25526.091797| 91019|  995.201172000001|\n",
            "|241|2000-12-06|27011.800781|27509.400391|26798.599609|26869.699219|25391.804688|105791| 710.8007819999984|\n",
            "|242|2000-12-07|27011.800781|27011.800781|26478.699219|26656.400391|25190.236328| 40656| 533.1015620000035|\n",
            "|243|2000-12-08|26656.400391|27722.699219|26656.400391|27651.599609|26130.699219|149964| 1066.298827999999|\n",
            "|244|2000-12-11|27687.099609|     28860.0|27651.599609|28078.099609|26533.740234|159671|1208.4003909999992|\n",
            "|245|2000-12-12|28042.599609|28078.099609|27438.300781|27935.900391|26399.361328| 74560|  639.798827999999|\n",
            "|246|2000-12-13|27651.599609|     29286.5|27651.599609|28469.099609|26903.234375|270385|1634.9003909999992|\n",
            "|247|2000-12-14|28469.099609|29784.099609|28291.300781|28362.400391| 26802.40625|256317| 1492.798827999999|\n",
            "|248|2000-12-15|28362.400391|28895.599609|27793.800781|27935.900391|26399.361328|108886| 1101.798827999999|\n",
            "|249|2000-12-18|     27580.5|     28433.5|27367.300781|28291.300781|26735.216797| 92848|1066.1992189999983|\n",
            "|250|2000-12-19|27722.699219|28788.900391|27651.599609|27651.599609|26130.699219|115779|1137.3007819999984|\n",
            "|251|2000-12-20|27402.800781|27793.800781|     27154.0|27722.699219|26197.890625| 99601| 639.8007810000017|\n",
            "|252|2000-12-21|27367.300781|27793.800781|27082.900391|27722.699219|26197.890625|129706| 710.9003900000025|\n",
            "|253|2000-12-22|27687.099609|     28007.0|27509.400391|     28007.0|26466.550781| 77233| 497.5996090000008|\n",
            "|254|2000-12-26|     27971.5|31987.699219|27473.900391|     28433.5|26869.591797|131535| 4513.798827999999|\n",
            "|255|2001-01-02|27367.300781|27367.300781|25945.599609|26656.400391|25190.236328| 64150| 1421.701172000001|\n",
            "|256|2001-01-03|26585.300781|26656.400391|26016.699219|26656.400391|25190.236328| 37421|  639.701172000001|\n",
            "|257|2001-01-04|27367.300781|28078.099609|26905.199219|27082.900391|25593.277344|131254|1172.9003900000025|\n",
            "|258|2001-01-05|26940.800781|26940.800781|26194.400391|26585.300781|25123.048828| 90316| 746.4003900000025|\n",
            "|259|2001-01-08|26514.199219|27011.800781|26052.199219|26052.199219|24619.269531|102414| 959.6015620000035|\n",
            "+---+----------+------------+------------+------------+------------+------------+------+------------------+\n",
            "only showing top 20 rows\n",
            "\n"
          ]
        }
      ],
      "source": [
        "spark.sql(\"SELECT* FROM modified_data \").show()"
      ]
    },
    {
      "cell_type": "markdown",
      "id": "e16c3036",
      "metadata": {
        "id": "e16c3036"
      },
      "source": [
        "### Write the generated data into files instead of the memory. "
      ]
    },
    {
      "cell_type": "code",
      "execution_count": 29,
      "id": "6441b76a",
      "metadata": {
        "id": "6441b76a",
        "colab": {
          "base_uri": "https://localhost:8080/"
        },
        "outputId": "31c3da88-e8c1-492d-d47d-b737b74171aa"
      },
      "outputs": [
        {
          "output_type": "execute_result",
          "data": {
            "text/plain": [
              "<pyspark.sql.streaming.StreamingQuery at 0x7fa25d1d92d0>"
            ]
          },
          "metadata": {},
          "execution_count": 29
        }
      ],
      "source": [
        "sr3=df.writeStream.format('csv').outputMode('append').option(\"path\", \"OutStream/\").option(\"checkpointLocation\", \"new_file\") \n",
        "sr3.start()"
      ]
    },
    {
      "cell_type": "markdown",
      "id": "72f07e3f",
      "metadata": {
        "id": "72f07e3f"
      },
      "source": [
        "### Stop the query. Now, try reading the generated parquet files into a normal dataframe\n",
        "- Create a schema and use it to read the data.\n",
        "- Show the output."
      ]
    },
    {
      "cell_type": "code",
      "execution_count": 35,
      "id": "c71ca2ae",
      "metadata": {
        "id": "c71ca2ae",
        "colab": {
          "base_uri": "https://localhost:8080/"
        },
        "outputId": "6731f485-ae8e-49e8-8439-8f52d89fe6c3"
      },
      "outputs": [
        {
          "output_type": "stream",
          "name": "stdout",
          "text": [
            "+---+----------+------------+------------+------------+------------+------------+------+\n",
            "| id|      Date|        Open|        High|         Low|       Close|   Adj Close|Volume|\n",
            "+---+----------+------------+------------+------------+------------+------------+------+\n",
            "|241|2000-12-06|27011.800781|27509.400391|26798.599609|26869.699219|25391.804688|105791|\n",
            "|242|2000-12-07|27011.800781|27011.800781|26478.699219|26656.400391|25190.236328| 40656|\n",
            "|243|2000-12-08|26656.400391|27722.699219|26656.400391|27651.599609|26130.699219|149964|\n",
            "|244|2000-12-11|27687.099609|     28860.0|27651.599609|28078.099609|26533.740234|159671|\n",
            "|245|2000-12-12|28042.599609|28078.099609|27438.300781|27935.900391|26399.361328| 74560|\n",
            "|246|2000-12-13|27651.599609|     29286.5|27651.599609|28469.099609|26903.234375|270385|\n",
            "|247|2000-12-14|28469.099609|29784.099609|28291.300781|28362.400391| 26802.40625|256317|\n",
            "|248|2000-12-15|28362.400391|28895.599609|27793.800781|27935.900391|26399.361328|108886|\n",
            "|249|2000-12-18|     27580.5|     28433.5|27367.300781|28291.300781|26735.216797| 92848|\n",
            "|250|2000-12-19|27722.699219|28788.900391|27651.599609|27651.599609|26130.699219|115779|\n",
            "|251|2000-12-20|27402.800781|27793.800781|     27154.0|27722.699219|26197.890625| 99601|\n",
            "|252|2000-12-21|27367.300781|27793.800781|27082.900391|27722.699219|26197.890625|129706|\n",
            "|253|2000-12-22|27687.099609|     28007.0|27509.400391|     28007.0|26466.550781| 77233|\n",
            "|254|2000-12-26|     27971.5|31987.699219|27473.900391|     28433.5|26869.591797|131535|\n",
            "|255|2001-01-02|27367.300781|27367.300781|25945.599609|26656.400391|25190.236328| 64150|\n",
            "|256|2001-01-03|26585.300781|26656.400391|26016.699219|26656.400391|25190.236328| 37421|\n",
            "|257|2001-01-04|27367.300781|28078.099609|26905.199219|27082.900391|25593.277344|131254|\n",
            "|258|2001-01-05|26940.800781|26940.800781|26194.400391|26585.300781|25123.048828| 90316|\n",
            "|259|2001-01-08|26514.199219|27011.800781|26052.199219|26052.199219|24619.269531|102414|\n",
            "|260|2001-01-09|26087.699219|26549.800781|     25874.5|26372.099609|24921.574219| 81453|\n",
            "+---+----------+------------+------------+------------+------------+------------+------+\n",
            "only showing top 20 rows\n",
            "\n"
          ]
        }
      ],
      "source": [
        "finalDF=spark.read.csv('/content/OutStream/',schema=Schema,header=True)\n",
        "finalDF.show()\n"
      ]
    },
    {
      "cell_type": "markdown",
      "id": "4814d697",
      "metadata": {
        "id": "4814d697"
      },
      "source": [
        "### Sort the dataframe based on the ID"
      ]
    },
    {
      "cell_type": "code",
      "execution_count": 36,
      "id": "c51d91a5",
      "metadata": {
        "id": "c51d91a5",
        "outputId": "4a64f5ca-0dc4-47a9-ba49-1d9954450c96",
        "colab": {
          "base_uri": "https://localhost:8080/"
        }
      },
      "outputs": [
        {
          "output_type": "stream",
          "name": "stdout",
          "text": [
            "+---+----------+------------+------------+------------+------------+------------+------+\n",
            "| id|      Date|        Open|        High|         Low|       Close|   Adj Close|Volume|\n",
            "+---+----------+------------+------------+------------+------------+------------+------+\n",
            "|  0|2000-01-04|22817.900391|25696.800781|22817.900391|24879.300781|23510.880859|108745|\n",
            "|  1|2000-01-05|24523.900391|26229.900391|23670.900391|24417.300781|23074.294922|175990|\n",
            "|  2|2000-01-06|24381.699219|24666.099609|22746.800781|22817.900391|21562.865234| 71746|\n",
            "|  3|2000-01-07|     22036.0|24879.300781|     22036.0|23884.199219|22570.513672|120984|\n",
            "|  4|2000-01-10|24879.300781|25519.099609|23813.099609|24061.900391|22738.439453|151371|\n",
            "|  5|2000-01-11|     24168.5|     25021.5|23955.199219|24239.599609|22906.365234| 95943|\n",
            "|  6|2000-01-12|     24168.5|24452.800781|23457.599609|23670.900391|22368.947266| 61899|\n",
            "|  7|2000-01-13|23670.900391|24132.900391|23102.199219|23244.400391| 21965.90625| 57538|\n",
            "|  8|2000-01-14|23457.599609|     24168.5|22746.800781|23244.400391| 21965.90625| 84267|\n",
            "|  9|2000-01-17|22533.599609|23457.599609|22533.599609|23457.599609|22167.376953| 67807|\n",
            "| 10|2000-01-18|23457.599609|     23742.0|22746.800781|23422.099609|22133.832031| 27995|\n",
            "| 11|2000-01-19|22817.900391|23173.300781|     22036.0|     22036.0|20823.970703| 44173|\n",
            "| 12|2000-01-20|21325.099609|22000.400391|     20756.5|21680.599609|20488.117188| 47550|\n",
            "| 13|2000-01-21|21680.599609|22391.400391|20863.099609|21680.599609|20488.117188| 80750|\n",
            "| 14|2000-01-24|20969.699219|21822.699219|20969.699219|20969.699219|19816.320313| 79906|\n",
            "| 15|2000-01-25|20258.900391|20934.199219|     19548.0|20116.699219|19010.236328|170925|\n",
            "| 16|2000-01-26|20223.300781|20543.199219|19761.300781|     20330.0|19211.804688| 59929|\n",
            "| 17|2000-01-27|     20401.0|22746.800781|     20330.0|21040.800781|19883.511719|139132|\n",
            "| 18|2000-01-28|21431.800781|22107.099609|21040.800781|21964.900391|20756.783203| 78640|\n",
            "| 19|2000-01-31|21325.099609|21893.800781|     21183.0|21467.300781|20286.552734| 45861|\n",
            "+---+----------+------------+------------+------------+------------+------------+------+\n",
            "only showing top 20 rows\n",
            "\n"
          ]
        }
      ],
      "source": [
        "finalDFSorted = finalDF.sort('ID')\n",
        "finalDFSorted.show()"
      ]
    },
    {
      "cell_type": "code",
      "execution_count": null,
      "id": "e218d5ae",
      "metadata": {
        "id": "e218d5ae"
      },
      "outputs": [],
      "source": [
        ""
      ]
    }
  ],
  "metadata": {
    "kernelspec": {
      "display_name": "Python 3 (ipykernel)",
      "language": "python",
      "name": "python3"
    },
    "language_info": {
      "codemirror_mode": {
        "name": "ipython",
        "version": 3
      },
      "file_extension": ".py",
      "mimetype": "text/x-python",
      "name": "python",
      "nbconvert_exporter": "python",
      "pygments_lexer": "ipython3",
      "version": "3.9.12"
    },
    "colab": {
      "name": "Streaming P.S._Student(A'laa Abbas).ipynb",
      "provenance": []
    }
  },
  "nbformat": 4,
  "nbformat_minor": 5
}