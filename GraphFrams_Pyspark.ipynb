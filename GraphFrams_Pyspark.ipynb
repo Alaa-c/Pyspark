{
  "cells": [
    {
      "cell_type": "markdown",
      "id": "779b346d",
      "metadata": {
        "id": "779b346d"
      },
      "source": [
        "## The following section is for Colab Users.\n",
        "### Just run the following code cells"
      ]
    },
    {
      "cell_type": "code",
      "execution_count": 1,
      "id": "7d73eb01",
      "metadata": {
        "id": "7d73eb01",
        "colab": {
          "base_uri": "https://localhost:8080/"
        },
        "outputId": "153a5867-3287-4665-c41e-5b2644c0da94"
      },
      "outputs": [
        {
          "output_type": "stream",
          "name": "stdout",
          "text": [
            "\u001b[K     |████████████████████████████████| 281.3 MB 49 kB/s \n",
            "\u001b[K     |████████████████████████████████| 199 kB 68.3 MB/s \n",
            "\u001b[K     |████████████████████████████████| 154 kB 64.7 MB/s \n",
            "\u001b[?25h  Building wheel for pyspark (setup.py) ... \u001b[?25l\u001b[?25hdone\n"
          ]
        }
      ],
      "source": [
        "!apt-get install openjdk-11-jdk-headless -qq > /dev/null\n",
        "!wget -q https://bitbucket.org/habedi/datasets/raw/b6769c4664e7ff68b001e2f43bc517888cbe3642/spark/spark-3.0.2-bin-hadoop2.7.tgz\n",
        "!tar xf spark-3.0.2-bin-hadoop2.7.tgz\n",
        "!rm -rf spark-3.0.2-bin-hadoop2.7.tgz*\n",
        "!pip -q install findspark pyspark graphframes"
      ]
    },
    {
      "cell_type": "code",
      "execution_count": 2,
      "id": "299e0d6a",
      "metadata": {
        "id": "299e0d6a",
        "colab": {
          "base_uri": "https://localhost:8080/"
        },
        "outputId": "171a2444-9182-43e6-c39b-fd8289532089"
      },
      "outputs": [
        {
          "output_type": "stream",
          "name": "stdout",
          "text": [
            "--2022-07-22 20:49:38--  https://repos.spark-packages.org/graphframes/graphframes/0.8.2-spark3.0-s_2.12/graphframes-0.8.2-spark3.0-s_2.12.jar\n",
            "Resolving repos.spark-packages.org (repos.spark-packages.org)... 13.33.33.70, 13.33.33.11, 13.33.33.102, ...\n",
            "Connecting to repos.spark-packages.org (repos.spark-packages.org)|13.33.33.70|:443... connected.\n",
            "HTTP request sent, awaiting response... 200 OK\n",
            "Length: 247882 (242K) [binary/octet-stream]\n",
            "Saving to: ‘/content/spark-3.0.2-bin-hadoop2.7/jars/graphframes-0.8.2-spark3.0-s_2.12.jar’\n",
            "\n",
            "graphframes-0.8.2-s 100%[===================>] 242.07K  --.-KB/s    in 0.005s  \n",
            "\n",
            "2022-07-22 20:49:39 (47.6 MB/s) - ‘/content/spark-3.0.2-bin-hadoop2.7/jars/graphframes-0.8.2-spark3.0-s_2.12.jar’ saved [247882/247882]\n",
            "\n"
          ]
        }
      ],
      "source": [
        "!wget https://repos.spark-packages.org/graphframes/graphframes/0.8.2-spark3.0-s_2.12/graphframes-0.8.2-spark3.0-s_2.12.jar -P /content/spark-3.0.2-bin-hadoop2.7/jars/\n",
        "!cp /content/spark-3.0.2-bin-hadoop2.7/jars/graphframes-0.8.2-spark3.0-s_2.12.jar /content/spark-3.0.2-bin-hadoop2.7/graphframes-0.8.2-spark3.0-s_2.12.zip"
      ]
    },
    {
      "cell_type": "code",
      "execution_count": 3,
      "id": "ee0d39ec",
      "metadata": {
        "id": "ee0d39ec"
      },
      "outputs": [],
      "source": [
        "import os\n",
        "\n",
        "os.environ[\"JAVA_HOME\"] = \"/usr/lib/jvm/java-11-openjdk-amd64\"\n",
        "os.environ[\"SPARK_HOME\"] = \"/content/spark-3.0.2-bin-hadoop2.7\"\n",
        "os.environ[\"HADOOP_HOME\"] = os.environ[\"SPARK_HOME\"]\n",
        "\n",
        "os.environ[\"PYSPARK_DRIVER_PYTHON\"] = \"jupyter\"\n",
        "os.environ[\"PYSPARK_DRIVER_PYTHON_OPTS\"] = \"notebook\"\n",
        "os.environ[\"PYSPARK_SUBMIT_ARGS\"] = \"--master local[*] pyspark-shell\""
      ]
    },
    {
      "cell_type": "code",
      "execution_count": 4,
      "id": "7136d8e6",
      "metadata": {
        "id": "7136d8e6"
      },
      "outputs": [],
      "source": [
        "import findspark\n",
        "findspark.init()"
      ]
    },
    {
      "cell_type": "code",
      "execution_count": 5,
      "id": "92f3e19b",
      "metadata": {
        "id": "92f3e19b"
      },
      "outputs": [],
      "source": [
        "!export PYSPARK_SUBMIT_ARGS=\"--master local[*] pyspark-shell\"\n",
        "!export PYSPARK_DRIVER_PYTHON=jupyter\n",
        "!export PYSPARK_DRIVER_PYTHON_OPTS=notebook"
      ]
    },
    {
      "cell_type": "code",
      "execution_count": 6,
      "id": "f1504ff4",
      "metadata": {
        "id": "f1504ff4"
      },
      "outputs": [],
      "source": [
        "from pyspark.sql import SparkSession\n",
        "from graphframes import *\n",
        "\n",
        "spark = SparkSession.builder.master(\"local[*]\").appName(\"GraphFrames\").getOrCreate()"
      ]
    },
    {
      "cell_type": "code",
      "execution_count": 7,
      "id": "252db99a",
      "metadata": {
        "id": "252db99a"
      },
      "outputs": [],
      "source": [
        "os.environ[\"PYSPARK_SUBMIT_ARGS\"] = \"--packages graphframes:graphframes:0.8.1-spark3.0-s_2.12 pyspark-shell\""
      ]
    },
    {
      "cell_type": "markdown",
      "id": "66232934",
      "metadata": {
        "id": "66232934"
      },
      "source": [
        "**************************************************************************\n",
        "**************************************************************************\n",
        "**************************************************************************"
      ]
    },
    {
      "cell_type": "code",
      "execution_count": 8,
      "id": "2a0819b3",
      "metadata": {
        "id": "2a0819b3",
        "outputId": "6d27f21b-fe3b-471f-cf8b-19aa656d2a45",
        "colab": {
          "base_uri": "https://localhost:8080/",
          "height": 17
        }
      },
      "outputs": [
        {
          "output_type": "display_data",
          "data": {
            "text/plain": [
              "<IPython.core.display.HTML object>"
            ],
            "text/html": [
              "<style>pre { white-space: pre !important; }</style>"
            ]
          },
          "metadata": {}
        }
      ],
      "source": [
        "from IPython.display import display, HTML\n",
        "display(HTML(\"<style>pre { white-space: pre !important; }</style>\"))"
      ]
    },
    {
      "cell_type": "markdown",
      "id": "d7f57da0",
      "metadata": {
        "id": "d7f57da0"
      },
      "source": [
        "### Read departuredelays.csv in Edge DataFrame\n",
        "### Read airport-codes-na.txt in Vertix DataFrame (the separator is Tab i.e sep = '\\t' )"
      ]
    },
    {
      "cell_type": "markdown",
      "id": "631c334e",
      "metadata": {
        "id": "631c334e"
      },
      "source": [
        "#### The US flight delays data set has five columns:\n",
        "- The <b>date</b> column contains an integer like 02190925 . When converted, this maps to 02-19 09:25 am.\n",
        "- The <b>delay</b> column gives the delay in minutes between the scheduled and actual departure times. Early departures show negative numbers.\n",
        "- The <b>distance</b> column gives the distance in miles from the origin airport to the destination airport.\n",
        "- The <b>origin</b> column contains the origin IATA airport code.\n",
        "- The <b>destination</b> column contains the destination IATA airport code.\n",
        "\n",
        "#### The airport-codes data set has four columns:\n",
        "- The <b>IATA</b> column contains IATA airport code.\n",
        "- The <b>City, State, and Country</b> columns contains information about the airport location. "
      ]
    },
    {
      "cell_type": "code",
      "execution_count": 53,
      "id": "30f02a5a",
      "metadata": {
        "id": "30f02a5a",
        "colab": {
          "base_uri": "https://localhost:8080/"
        },
        "outputId": "c359a00b-1ac6-4c30-befd-74eb1dd4dea8"
      },
      "outputs": [
        {
          "output_type": "stream",
          "name": "stdout",
          "text": [
            "+-------+-----+--------+------+-----------+\n",
            "|   date|delay|distance|origin|destination|\n",
            "+-------+-----+--------+------+-----------+\n",
            "|1011245|    6|     602|   ABE|        ATL|\n",
            "|1020600|   -8|     369|   ABE|        DTW|\n",
            "|1021245|   -2|     602|   ABE|        ATL|\n",
            "|1020605|   -4|     602|   ABE|        ATL|\n",
            "|1031245|   -4|     602|   ABE|        ATL|\n",
            "|1030605|    0|     602|   ABE|        ATL|\n",
            "|1041243|   10|     602|   ABE|        ATL|\n",
            "|1040605|   28|     602|   ABE|        ATL|\n",
            "|1051245|   88|     602|   ABE|        ATL|\n",
            "|1050605|    9|     602|   ABE|        ATL|\n",
            "|1061215|   -6|     602|   ABE|        ATL|\n",
            "|1061725|   69|     602|   ABE|        ATL|\n",
            "|1061230|    0|     369|   ABE|        DTW|\n",
            "|1060625|   -3|     602|   ABE|        ATL|\n",
            "|1070600|    0|     369|   ABE|        DTW|\n",
            "|1071725|    0|     602|   ABE|        ATL|\n",
            "|1071230|    0|     369|   ABE|        DTW|\n",
            "|1070625|    0|     602|   ABE|        ATL|\n",
            "|1071219|    0|     569|   ABE|        ORD|\n",
            "|1080600|    0|     369|   ABE|        DTW|\n",
            "+-------+-----+--------+------+-----------+\n",
            "only showing top 20 rows\n",
            "\n"
          ]
        }
      ],
      "source": [
        "e_df=spark.read.csv('/content/departuredelays(1).csv',header=True,inferSchema=True)\n",
        "e_df.show()"
      ]
    },
    {
      "cell_type": "code",
      "source": [
        "v_df=spark.read.csv('/content/sample_data/airport-codes-na.txt',sep='\\t',header=True)\n",
        "v_df.show(5)"
      ],
      "metadata": {
        "colab": {
          "base_uri": "https://localhost:8080/"
        },
        "id": "wDbxB9eoM7wD",
        "outputId": "8aae65d0-4243-4377-c09b-7fd2efe0dd9c"
      },
      "id": "wDbxB9eoM7wD",
      "execution_count": 14,
      "outputs": [
        {
          "output_type": "stream",
          "name": "stdout",
          "text": [
            "+----------+-----+-------+----+\n",
            "|      City|State|Country|IATA|\n",
            "+----------+-----+-------+----+\n",
            "|Abbotsford|   BC| Canada| YXX|\n",
            "|  Aberdeen|   SD|    USA| ABR|\n",
            "|   Abilene|   TX|    USA| ABI|\n",
            "|     Akron|   OH|    USA| CAK|\n",
            "|   Alamosa|   CO|    USA| ALS|\n",
            "+----------+-----+-------+----+\n",
            "only showing top 5 rows\n",
            "\n"
          ]
        }
      ]
    },
    {
      "cell_type": "markdown",
      "id": "e1d90463",
      "metadata": {
        "id": "e1d90463"
      },
      "source": [
        "### In the vertix DataFrame, drop any duplicated rows with the same  IATA code."
      ]
    },
    {
      "cell_type": "code",
      "execution_count": 15,
      "id": "15571db4",
      "metadata": {
        "id": "15571db4",
        "colab": {
          "base_uri": "https://localhost:8080/"
        },
        "outputId": "e2cf4e93-c5ad-4ecd-cd76-c63789867aa2"
      },
      "outputs": [
        {
          "output_type": "stream",
          "name": "stdout",
          "text": [
            "+-------------------+-----+-------+----+\n",
            "|               City|State|Country|IATA|\n",
            "+-------------------+-----+-------+----+\n",
            "|         Binghamton|   NY|    USA| BGM|\n",
            "|            Lebanon|   NH|    USA| LEB|\n",
            "|           Montreal|   PQ| Canada| YUL|\n",
            "|         Dillingham|   AK|    USA| DLG|\n",
            "|International Falls|   MN|    USA| INL|\n",
            "|         Wolf Point|   MT|    USA| OLF|\n",
            "|        New Orleans|   LA|    USA| MSY|\n",
            "|            Toronto|   ON| Canada| YTO|\n",
            "|            Spokane|   WA|    USA| GEG|\n",
            "|              Havre|   MT|    USA| HVR|\n",
            "|            Burbank|   CA|    USA| BUR|\n",
            "|      Orange County|   CA|    USA| SNA|\n",
            "|             Dryden|   ON| Canada| YHD|\n",
            "|         Fort Dodge|   IA|    USA| FOD|\n",
            "|          Green Bay|   WI|    USA| GRB|\n",
            "|        Great Falls|   MT|    USA| GTF|\n",
            "|              Homer|   AK|    USA| HOM|\n",
            "|        Idaho Falls|   ID|    USA| IDA|\n",
            "|      Sioux Lookout|   ON| Canada| YXL|\n",
            "|       Grand Rapids|   MI|    USA| GRR|\n",
            "+-------------------+-----+-------+----+\n",
            "only showing top 20 rows\n",
            "\n"
          ]
        }
      ],
      "source": [
        "v_df=v_df.drop_duplicates(['IATA'])\n",
        "v_df.show()"
      ]
    },
    {
      "cell_type": "markdown",
      "id": "83d1dea8",
      "metadata": {
        "id": "83d1dea8"
      },
      "source": [
        "### In the edges DataFrame:\n",
        "- Rename the <b>date</b> columns to become <b>tripid</b>.\n",
        "- Rename the <b>origin</b> columns to become <b>src</b>.\n",
        "- Rename the <b>destination</b> columns to become <b>dst</b>."
      ]
    },
    {
      "cell_type": "code",
      "execution_count": 54,
      "id": "5319e844",
      "metadata": {
        "id": "5319e844",
        "colab": {
          "base_uri": "https://localhost:8080/"
        },
        "outputId": "95dd2339-1671-4fd9-f11f-26c1b5ca7042"
      },
      "outputs": [
        {
          "output_type": "stream",
          "name": "stdout",
          "text": [
            "+-------+-----+--------+---+---+\n",
            "| tripid|delay|distance|src|dst|\n",
            "+-------+-----+--------+---+---+\n",
            "|1011245|    6|     602|ABE|ATL|\n",
            "|1020600|   -8|     369|ABE|DTW|\n",
            "|1021245|   -2|     602|ABE|ATL|\n",
            "|1020605|   -4|     602|ABE|ATL|\n",
            "|1031245|   -4|     602|ABE|ATL|\n",
            "|1030605|    0|     602|ABE|ATL|\n",
            "|1041243|   10|     602|ABE|ATL|\n",
            "|1040605|   28|     602|ABE|ATL|\n",
            "|1051245|   88|     602|ABE|ATL|\n",
            "|1050605|    9|     602|ABE|ATL|\n",
            "+-------+-----+--------+---+---+\n",
            "only showing top 10 rows\n",
            "\n"
          ]
        }
      ],
      "source": [
        "e_df=e_df.withColumnRenamed('date','tripid')\n",
        "e_df=e_df.withColumnRenamed('origin','src')\n",
        "e_df=e_df.withColumnRenamed('destination','dst')\n",
        "e_df.show(10)\n"
      ]
    },
    {
      "cell_type": "markdown",
      "id": "260660dc",
      "metadata": {
        "id": "260660dc"
      },
      "source": [
        "### In the Vertix DataFrame:\n",
        "- Rename the <b>IATA</b> columns to become <b>id</b>."
      ]
    },
    {
      "cell_type": "code",
      "execution_count": 17,
      "id": "42846969",
      "metadata": {
        "scrolled": false,
        "id": "42846969",
        "colab": {
          "base_uri": "https://localhost:8080/"
        },
        "outputId": "c8334b70-85e3-438b-e57d-15b085095132"
      },
      "outputs": [
        {
          "output_type": "stream",
          "name": "stdout",
          "text": [
            "+-------------------+-----+-------+---+\n",
            "|               City|State|Country| id|\n",
            "+-------------------+-----+-------+---+\n",
            "|         Binghamton|   NY|    USA|BGM|\n",
            "|            Lebanon|   NH|    USA|LEB|\n",
            "|           Montreal|   PQ| Canada|YUL|\n",
            "|         Dillingham|   AK|    USA|DLG|\n",
            "|International Falls|   MN|    USA|INL|\n",
            "+-------------------+-----+-------+---+\n",
            "only showing top 5 rows\n",
            "\n"
          ]
        }
      ],
      "source": [
        "v_df=v_df.withColumnRenamed('IATA','id')\n",
        "v_df.show(5)"
      ]
    },
    {
      "cell_type": "markdown",
      "id": "4b50a1fe",
      "metadata": {
        "id": "4b50a1fe"
      },
      "source": [
        "### Create GraphFrame from Vertix and Edges DataFrames"
      ]
    },
    {
      "cell_type": "code",
      "execution_count": 57,
      "id": "72be9d09",
      "metadata": {
        "id": "72be9d09",
        "colab": {
          "base_uri": "https://localhost:8080/"
        },
        "outputId": "4dbf42c6-0ff6-4ac5-bba8-f0d0a6e5e573"
      },
      "outputs": [
        {
          "output_type": "stream",
          "name": "stdout",
          "text": [
            "+-------------------+-----+-------+---+\n",
            "|               City|State|Country| id|\n",
            "+-------------------+-----+-------+---+\n",
            "|         Binghamton|   NY|    USA|BGM|\n",
            "|            Lebanon|   NH|    USA|LEB|\n",
            "|           Montreal|   PQ| Canada|YUL|\n",
            "|         Dillingham|   AK|    USA|DLG|\n",
            "|International Falls|   MN|    USA|INL|\n",
            "|         Wolf Point|   MT|    USA|OLF|\n",
            "|        New Orleans|   LA|    USA|MSY|\n",
            "|            Toronto|   ON| Canada|YTO|\n",
            "|            Spokane|   WA|    USA|GEG|\n",
            "|              Havre|   MT|    USA|HVR|\n",
            "|            Burbank|   CA|    USA|BUR|\n",
            "|      Orange County|   CA|    USA|SNA|\n",
            "|             Dryden|   ON| Canada|YHD|\n",
            "|         Fort Dodge|   IA|    USA|FOD|\n",
            "|          Green Bay|   WI|    USA|GRB|\n",
            "|        Great Falls|   MT|    USA|GTF|\n",
            "|              Homer|   AK|    USA|HOM|\n",
            "|        Idaho Falls|   ID|    USA|IDA|\n",
            "|      Sioux Lookout|   ON| Canada|YXL|\n",
            "|       Grand Rapids|   MI|    USA|GRR|\n",
            "+-------------------+-----+-------+---+\n",
            "only showing top 20 rows\n",
            "\n",
            "+-------+-----+--------+---+---+\n",
            "| tripid|delay|distance|src|dst|\n",
            "+-------+-----+--------+---+---+\n",
            "|1011245|    6|     602|ABE|ATL|\n",
            "|1020600|   -8|     369|ABE|DTW|\n",
            "|1021245|   -2|     602|ABE|ATL|\n",
            "|1020605|   -4|     602|ABE|ATL|\n",
            "|1031245|   -4|     602|ABE|ATL|\n",
            "|1030605|    0|     602|ABE|ATL|\n",
            "|1041243|   10|     602|ABE|ATL|\n",
            "|1040605|   28|     602|ABE|ATL|\n",
            "|1051245|   88|     602|ABE|ATL|\n",
            "|1050605|    9|     602|ABE|ATL|\n",
            "|1061215|   -6|     602|ABE|ATL|\n",
            "|1061725|   69|     602|ABE|ATL|\n",
            "|1061230|    0|     369|ABE|DTW|\n",
            "|1060625|   -3|     602|ABE|ATL|\n",
            "|1070600|    0|     369|ABE|DTW|\n",
            "|1071725|    0|     602|ABE|ATL|\n",
            "|1071230|    0|     369|ABE|DTW|\n",
            "|1070625|    0|     602|ABE|ATL|\n",
            "|1071219|    0|     569|ABE|ORD|\n",
            "|1080600|    0|     369|ABE|DTW|\n",
            "+-------+-----+--------+---+---+\n",
            "only showing top 20 rows\n",
            "\n"
          ]
        }
      ],
      "source": [
        "gf=GraphFrame(v_df,e_df)\n",
        "gf.vertices.show()\n",
        "gf.edges.show()"
      ]
    },
    {
      "cell_type": "markdown",
      "id": "abd2ebc6",
      "metadata": {
        "id": "abd2ebc6"
      },
      "source": [
        "### Determine the number of airports"
      ]
    },
    {
      "cell_type": "code",
      "execution_count": 27,
      "id": "f38688c9",
      "metadata": {
        "id": "f38688c9",
        "colab": {
          "base_uri": "https://localhost:8080/"
        },
        "outputId": "a60a32ff-0a3f-4a60-e237-78350fdb5a86"
      },
      "outputs": [
        {
          "output_type": "execute_result",
          "data": {
            "text/plain": [
              "524"
            ]
          },
          "metadata": {},
          "execution_count": 27
        }
      ],
      "source": [
        "gf.vertices.count()"
      ]
    },
    {
      "cell_type": "markdown",
      "id": "435187a8",
      "metadata": {
        "id": "435187a8"
      },
      "source": [
        "### Determine the number of trips "
      ]
    },
    {
      "cell_type": "code",
      "execution_count": 28,
      "id": "db2a507d",
      "metadata": {
        "id": "db2a507d",
        "colab": {
          "base_uri": "https://localhost:8080/"
        },
        "outputId": "79434543-5500-42c4-a9f5-d7fb2ddf1970"
      },
      "outputs": [
        {
          "output_type": "execute_result",
          "data": {
            "text/plain": [
              "1267461"
            ]
          },
          "metadata": {},
          "execution_count": 28
        }
      ],
      "source": [
        "gf.edges.count()"
      ]
    },
    {
      "cell_type": "markdown",
      "id": "dec8731f",
      "metadata": {
        "id": "dec8731f"
      },
      "source": [
        "### What is the longest delay?"
      ]
    },
    {
      "cell_type": "code",
      "execution_count": 31,
      "id": "df3d6aac",
      "metadata": {
        "id": "df3d6aac",
        "colab": {
          "base_uri": "https://localhost:8080/"
        },
        "outputId": "f8650a7e-81aa-4371-947f-4610600fd9f6"
      },
      "outputs": [
        {
          "output_type": "stream",
          "name": "stdout",
          "text": [
            "+----------+\n",
            "|max(delay)|\n",
            "+----------+\n",
            "|      1638|\n",
            "+----------+\n",
            "\n"
          ]
        }
      ],
      "source": [
        "gf.edges.agg({'delay':'max'}).show()"
      ]
    },
    {
      "cell_type": "markdown",
      "id": "202d888c",
      "metadata": {
        "id": "202d888c"
      },
      "source": [
        "### Find out the number of delayed flights vs. early flights (flights that departed before actual time)"
      ]
    },
    {
      "cell_type": "code",
      "execution_count": 24,
      "id": "7cdd7ff7",
      "metadata": {
        "id": "7cdd7ff7",
        "colab": {
          "base_uri": "https://localhost:8080/"
        },
        "outputId": "a5f6a781-55b2-4bae-dca0-d9181c549b3a"
      },
      "outputs": [
        {
          "output_type": "stream",
          "name": "stdout",
          "text": [
            "+-------+-----+--------+---+---+\n",
            "| tripid|delay|distance|src|dst|\n",
            "+-------+-----+--------+---+---+\n",
            "|1011245|    6|     602|ABE|ATL|\n",
            "|1041243|   10|     602|ABE|ATL|\n",
            "|1040605|   28|     602|ABE|ATL|\n",
            "|1051245|   88|     602|ABE|ATL|\n",
            "|1050605|    9|     602|ABE|ATL|\n",
            "|1061725|   69|     602|ABE|ATL|\n",
            "|1081230|   33|     369|ABE|DTW|\n",
            "|1080625|    1|     602|ABE|ATL|\n",
            "|1080607|    5|     569|ABE|ORD|\n",
            "|1081219|   54|     569|ABE|ORD|\n",
            "|1091215|   43|     602|ABE|ATL|\n",
            "|1090600|  151|     369|ABE|DTW|\n",
            "|1090625|    8|     602|ABE|ATL|\n",
            "|1091219|   83|     569|ABE|ORD|\n",
            "|1101725|    7|     602|ABE|ATL|\n",
            "|1100625|   52|     602|ABE|ATL|\n",
            "|1111215|  127|     602|ABE|ATL|\n",
            "|1131215|   14|     602|ABE|ATL|\n",
            "|1130625|   29|     602|ABE|ATL|\n",
            "|1161219|   68|     569|ABE|ORD|\n",
            "+-------+-----+--------+---+---+\n",
            "only showing top 20 rows\n",
            "\n",
            "+-------+-----+--------+---+---+\n",
            "| tripid|delay|distance|src|dst|\n",
            "+-------+-----+--------+---+---+\n",
            "|1020600|   -8|     369|ABE|DTW|\n",
            "|1021245|   -2|     602|ABE|ATL|\n",
            "|1020605|   -4|     602|ABE|ATL|\n",
            "|1031245|   -4|     602|ABE|ATL|\n",
            "|1030605|    0|     602|ABE|ATL|\n",
            "|1061215|   -6|     602|ABE|ATL|\n",
            "|1061230|    0|     369|ABE|DTW|\n",
            "|1060625|   -3|     602|ABE|ATL|\n",
            "|1070600|    0|     369|ABE|DTW|\n",
            "|1071725|    0|     602|ABE|ATL|\n",
            "|1071230|    0|     369|ABE|DTW|\n",
            "|1070625|    0|     602|ABE|ATL|\n",
            "|1071219|    0|     569|ABE|ORD|\n",
            "|1080600|    0|     369|ABE|DTW|\n",
            "|1091725|    0|     602|ABE|ATL|\n",
            "|1091230|   -4|     369|ABE|DTW|\n",
            "|1101215|   -5|     602|ABE|ATL|\n",
            "|1100600|   -5|     369|ABE|DTW|\n",
            "|1101230|   -8|     369|ABE|DTW|\n",
            "|1101219|    0|     569|ABE|ORD|\n",
            "+-------+-----+--------+---+---+\n",
            "only showing top 20 rows\n",
            "\n"
          ]
        }
      ],
      "source": [
        "gf.edges.filter('delay >0').show() #late\n",
        "gf.edges.filter('delay<=0').show() #early\n"
      ]
    },
    {
      "cell_type": "markdown",
      "id": "30961bc3",
      "metadata": {
        "id": "30961bc3"
      },
      "source": [
        "### What flight destinations departing SFO are most likely to have significant delays? Select the top 10\n",
        "#### Hint: you should get the average delay for each destination for trips that depart from SFO only"
      ]
    },
    {
      "cell_type": "code",
      "execution_count": 59,
      "id": "afdc6842",
      "metadata": {
        "id": "afdc6842",
        "colab": {
          "base_uri": "https://localhost:8080/"
        },
        "outputId": "f2f65285-8815-4d8f-d0d1-5e1992963a4a"
      },
      "outputs": [
        {
          "output_type": "stream",
          "name": "stdout",
          "text": [
            "+---+------------------+\n",
            "|dst|        avg(delay)|\n",
            "+---+------------------+\n",
            "|OKC|59.073170731707314|\n",
            "|JAC| 57.13333333333333|\n",
            "|COS|53.976190476190474|\n",
            "|OTH| 48.09090909090909|\n",
            "|SAT|            47.625|\n",
            "|MOD| 46.80952380952381|\n",
            "|SUN|46.723404255319146|\n",
            "|CIC| 46.72164948453608|\n",
            "|ABQ|           44.8125|\n",
            "|ASE|44.285714285714285|\n",
            "+---+------------------+\n",
            "only showing top 10 rows\n",
            "\n"
          ]
        }
      ],
      "source": [
        "from pyspark.sql.functions import desc\n",
        "temp=gf.edges.filter(\"src=='SFO'\").filter('delay>0').groupby(['dst']).mean(\"delay\")\n",
        "temp.sort(desc(\"avg(delay)\")).show(10) #choose the top 10"
      ]
    },
    {
      "cell_type": "markdown",
      "id": "71d46665",
      "metadata": {
        "id": "71d46665"
      },
      "source": [
        "### Find the Incoming connections to the airport sorted in Desc. order."
      ]
    },
    {
      "cell_type": "code",
      "execution_count": 52,
      "id": "c28925c3",
      "metadata": {
        "id": "c28925c3",
        "colab": {
          "base_uri": "https://localhost:8080/"
        },
        "outputId": "9bec8e1a-3c6c-4dd3-9d97-7033d5c58e2c"
      },
      "outputs": [
        {
          "output_type": "stream",
          "name": "stdout",
          "text": [
            "+-------+-----+--------+---+---+\n",
            "| tripid|delay|distance|src|dst|\n",
            "+-------+-----+--------+---+---+\n",
            "|2102155|  724|    2084|HNL|SFO|\n",
            "|3160600|  637|    1302|MCI|SFO|\n",
            "|2040725|  622|    2084|HNL|SFO|\n",
            "|2141405|  586|    2084|HNL|SFO|\n",
            "|1020840|  509|    1612|MDW|SFO|\n",
            "|2281625|  481|    1995|CLT|SFO|\n",
            "|2100740|  447|     286|MFR|SFO|\n",
            "|2141140|  430|    2229|EWR|SFO|\n",
            "|1300600|  427|     133|CIC|SFO|\n",
            "|3241530|  424|     840|DEN|SFO|\n",
            "|2271459|  423|    2102|IAD|SFO|\n",
            "|1051735|  416|     360|LAS|SFO|\n",
            "|2281805|  409|     293|LAX|SFO|\n",
            "|3151425|  409|    1273|DFW|SFO|\n",
            "|2150840|  392|    2102|IAD|SFO|\n",
            "|2261850|  389|    2247|JFK|SFO|\n",
            "|1051915|  385|    1604|ORD|SFO|\n",
            "|1301730|  385|     366|PSP|SFO|\n",
            "|1061214|  384|     590|SEA|SFO|\n",
            "|1020755|  378|    2191|PHL|SFO|\n",
            "+-------+-----+--------+---+---+\n",
            "only showing top 20 rows\n",
            "\n"
          ]
        }
      ],
      "source": [
        "gf.edges.filter('dst==\"SFO\"').sort(desc('delay')).show()"
      ]
    },
    {
      "cell_type": "markdown",
      "id": "d1b6509d",
      "metadata": {
        "id": "d1b6509d"
      },
      "source": [
        "### Find the Outgoing connections from the airport sorted in Desc. order."
      ]
    },
    {
      "cell_type": "code",
      "execution_count": 53,
      "id": "631af51d",
      "metadata": {
        "id": "631af51d",
        "colab": {
          "base_uri": "https://localhost:8080/"
        },
        "outputId": "2ef77718-60cc-4c06-bf8a-7eb88ad28227"
      },
      "outputs": [
        {
          "output_type": "stream",
          "name": "stdout",
          "text": [
            "+-------+-----+--------+---+---+\n",
            "| tripid|delay|distance|src|dst|\n",
            "+-------+-----+--------+---+---+\n",
            "|2190925| 1638|    1604|SFO|ORD|\n",
            "|2092110|  740|    2246|SFO|MIA|\n",
            "|2092230|  636|    2247|SFO|JFK|\n",
            "|1211508|  593|    2247|SFO|JFK|\n",
            "|1021507|  536|    2247|SFO|JFK|\n",
            "|2030906|  516|    2191|SFO|PHL|\n",
            "|2131420|  504|     388|SFO|SAN|\n",
            "|1021210|  484|     566|SFO|PHX|\n",
            "|2282320|  474|    2247|SFO|JFK|\n",
            "|2251500|  446|    1381|SFO|MSP|\n",
            "|1051250|  437|    2247|SFO|JFK|\n",
            "|1161105|  427|    1273|SFO|DFW|\n",
            "|1200840|  425|    2247|SFO|JFK|\n",
            "|2281535|  412|     293|SFO|LAX|\n",
            "|2282005|  407|     478|SFO|PDX|\n",
            "|1031755|  396|    1604|SFO|ORD|\n",
            "|2091550|  383|     566|SFO|PHX|\n",
            "|2122356|  376|    1859|SFO|ATL|\n",
            "|2281955|  353|     388|SFO|SAN|\n",
            "|1060023|  349|    1421|SFO|IAH|\n",
            "+-------+-----+--------+---+---+\n",
            "only showing top 20 rows\n",
            "\n"
          ]
        }
      ],
      "source": [
        "gf.edges.filter('src==\"SFO\"').sort(desc('delay')).show()"
      ]
    },
    {
      "cell_type": "markdown",
      "id": "fbec58ce",
      "metadata": {
        "id": "fbec58ce"
      },
      "source": [
        "### Use motif finding to answer this question: which delays could we blame on SFO?\n",
        "#### Hint: this practically means that SFO is a transit station"
      ]
    },
    {
      "cell_type": "code",
      "execution_count": 55,
      "id": "db17f3df",
      "metadata": {
        "id": "db17f3df",
        "colab": {
          "base_uri": "https://localhost:8080/"
        },
        "outputId": "0712dac2-4d82-4232-ee36-151052e8bdc6"
      },
      "outputs": [
        {
          "output_type": "stream",
          "name": "stdout",
          "text": [
            "+--------------------+--------------------+--------------------+\n",
            "|                 dst|                 SFO|                 src|\n",
            "+--------------------+--------------------+--------------------+\n",
            "|[Allentown, PA, U...|[1011245, 6, 602,...|[Atlanta, GA, USA...|\n",
            "|[Allentown, PA, U...|[1020600, -8, 369...|[Detroit, MI, USA...|\n",
            "|[Allentown, PA, U...|[1021245, -2, 602...|[Atlanta, GA, USA...|\n",
            "|[Allentown, PA, U...|[1020605, -4, 602...|[Atlanta, GA, USA...|\n",
            "|[Allentown, PA, U...|[1031245, -4, 602...|[Atlanta, GA, USA...|\n",
            "|[Allentown, PA, U...|[1030605, 0, 602,...|[Atlanta, GA, USA...|\n",
            "|[Allentown, PA, U...|[1041243, 10, 602...|[Atlanta, GA, USA...|\n",
            "|[Allentown, PA, U...|[1040605, 28, 602...|[Atlanta, GA, USA...|\n",
            "|[Allentown, PA, U...|[1051245, 88, 602...|[Atlanta, GA, USA...|\n",
            "|[Allentown, PA, U...|[1050605, 9, 602,...|[Atlanta, GA, USA...|\n",
            "|[Allentown, PA, U...|[1061215, -6, 602...|[Atlanta, GA, USA...|\n",
            "|[Allentown, PA, U...|[1061725, 69, 602...|[Atlanta, GA, USA...|\n",
            "|[Allentown, PA, U...|[1061230, 0, 369,...|[Detroit, MI, USA...|\n",
            "|[Allentown, PA, U...|[1060625, -3, 602...|[Atlanta, GA, USA...|\n",
            "|[Allentown, PA, U...|[1070600, 0, 369,...|[Detroit, MI, USA...|\n",
            "|[Allentown, PA, U...|[1071725, 0, 602,...|[Atlanta, GA, USA...|\n",
            "|[Allentown, PA, U...|[1071230, 0, 369,...|[Detroit, MI, USA...|\n",
            "|[Allentown, PA, U...|[1070625, 0, 602,...|[Atlanta, GA, USA...|\n",
            "|[Allentown, PA, U...|[1071219, 0, 569,...|[Chicago, IL, USA...|\n",
            "|[Allentown, PA, U...|[1080600, 0, 369,...|[Detroit, MI, USA...|\n",
            "+--------------------+--------------------+--------------------+\n",
            "only showing top 20 rows\n",
            "\n"
          ]
        }
      ],
      "source": [
        "gf.find(\"(dst)-[SFO]->(src)\").show()\n"
      ]
    },
    {
      "cell_type": "markdown",
      "id": "cc1ece96",
      "metadata": {
        "id": "cc1ece96"
      },
      "source": [
        "### Determine Airport Ranking in Desc. order using PageRank algorithm"
      ]
    },
    {
      "cell_type": "code",
      "execution_count": 29,
      "id": "f754d545",
      "metadata": {
        "id": "f754d545",
        "colab": {
          "base_uri": "https://localhost:8080/"
        },
        "outputId": "ce1449e5-c8cd-42e7-e705-e787c7a4a0f4"
      },
      "outputs": [
        {
          "output_type": "stream",
          "name": "stdout",
          "text": [
            "+---------------+-----+-------+---+------------------+\n",
            "|           City|State|Country| id|          pagerank|\n",
            "+---------------+-----+-------+---+------------------+\n",
            "|     Ponca City|   OK|    USA|PNC|0.8994250492584518|\n",
            "|      New Haven|   CT|    USA|HVN|0.8994250492584518|\n",
            "|    Scottsbluff|   NE|    USA|BFF|0.8994250492584518|\n",
            "|         Marion|   IL|    USA|MWA|0.8994250492584518|\n",
            "|        Phoenix|   AZ|    USA|PHX|1.7636271609181418|\n",
            "|         Clovis|   NM|    USA|CVN|0.8994250492584518|\n",
            "|     Twin Falls|   ID|    USA|TWF|0.8994250492584518|\n",
            "|        Chicago|   IL|    USA|MDW|1.4055634946889624|\n",
            "|   Myrtle Beach|   SC|    USA|MYR|0.9294344697201518|\n",
            "|        Oshkosh|   WI|    USA|OSH|0.8994250492584518|\n",
            "|       Savannah|   GA|    USA|SAV|0.9594438901818515|\n",
            "|Fort Saint John|   BC| Canada|YXJ|0.8994250492584518|\n",
            "|       Hartford|   CT|    USA|BDL|1.0366589075200061|\n",
            "|    Anahim Lake|   BC| Canada|YAA|0.8994250492584518|\n",
            "|       Bismarck|   ND|    USA|BIS|0.8994250492584518|\n",
            "|   Jacksonville|   NC|    USA|OAJ|0.9353846134323854|\n",
            "|        Burbank|   CA|    USA|BUR|0.8994250492584518|\n",
            "|      Green Bay|   WI|    USA|GRB|0.9074448081749407|\n",
            "|       Pellston|   MI|    USA|PLN|0.8994250492584518|\n",
            "|      Rochester|   MN|    USA|RST|0.8994250492584518|\n",
            "+---------------+-----+-------+---+------------------+\n",
            "only showing top 20 rows\n",
            "\n"
          ]
        }
      ],
      "source": [
        "temp1=gf.pageRank(resetProbability=0.15, tol=0.01 )\n",
        "temp1.vertices.orderBy(\"pagerank\", ascending=False ).distinct().show()"
      ]
    },
    {
      "cell_type": "markdown",
      "id": "8ebb5e18",
      "metadata": {
        "id": "8ebb5e18"
      },
      "source": [
        "### Find and Save a Subragph that obtained from the following pattern:\n",
        "#### The flight starts from an airport and return back to the same airport through 2 other airports."
      ]
    },
    {
      "cell_type": "code",
      "execution_count": 57,
      "id": "00361946",
      "metadata": {
        "id": "00361946",
        "colab": {
          "base_uri": "https://localhost:8080/"
        },
        "outputId": "41139368-79f3-415e-9578-46a70da10709"
      },
      "outputs": [
        {
          "output_type": "stream",
          "name": "stdout",
          "text": [
            "+--------------------+--------------------+\n",
            "|                  v1|                  v2|\n",
            "+--------------------+--------------------+\n",
            "|[Greenville, SC, ...|[Atlanta, GA, USA...|\n",
            "|[Greenville, SC, ...|[Atlanta, GA, USA...|\n",
            "|[Greenville, SC, ...|[Atlanta, GA, USA...|\n",
            "|[Greenville, SC, ...|[Atlanta, GA, USA...|\n",
            "|[Greenville, SC, ...|[Atlanta, GA, USA...|\n",
            "|[Greenville, SC, ...|[Atlanta, GA, USA...|\n",
            "|[Greenville, SC, ...|[Atlanta, GA, USA...|\n",
            "|[Greenville, SC, ...|[Atlanta, GA, USA...|\n",
            "|[Greenville, SC, ...|[Atlanta, GA, USA...|\n",
            "|[Greenville, SC, ...|[Atlanta, GA, USA...|\n",
            "|[Greenville, SC, ...|[Atlanta, GA, USA...|\n",
            "|[Greenville, SC, ...|[Atlanta, GA, USA...|\n",
            "|[Greenville, SC, ...|[Atlanta, GA, USA...|\n",
            "|[Greenville, SC, ...|[Atlanta, GA, USA...|\n",
            "|[Greenville, SC, ...|[Atlanta, GA, USA...|\n",
            "|[Greenville, SC, ...|[Atlanta, GA, USA...|\n",
            "|[Greenville, SC, ...|[Atlanta, GA, USA...|\n",
            "|[Greenville, SC, ...|[Atlanta, GA, USA...|\n",
            "|[Greenville, SC, ...|[Atlanta, GA, USA...|\n",
            "|[Greenville, SC, ...|[Atlanta, GA, USA...|\n",
            "+--------------------+--------------------+\n",
            "only showing top 20 rows\n",
            "\n"
          ]
        }
      ],
      "source": [
        "sg=gf.find('(v1)-[]->(v2);(v2)-[]->(v1)')\n",
        "sg.show()"
      ]
    },
    {
      "cell_type": "code",
      "source": [
        ""
      ],
      "metadata": {
        "id": "-sxrSBzbnhw_"
      },
      "id": "-sxrSBzbnhw_",
      "execution_count": null,
      "outputs": []
    }
  ],
  "metadata": {
    "kernelspec": {
      "display_name": "Python 3 (ipykernel)",
      "language": "python",
      "name": "python3"
    },
    "language_info": {
      "codemirror_mode": {
        "name": "ipython",
        "version": 3
      },
      "file_extension": ".py",
      "mimetype": "text/x-python",
      "name": "python",
      "nbconvert_exporter": "python",
      "pygments_lexer": "ipython3",
      "version": "3.9.12"
    },
    "colab": {
      "name": "GraphFrams_P.S._Student(A'laa Abbas).ipynb",
      "provenance": [],
      "collapsed_sections": []
    },
    "accelerator": "GPU",
    "gpuClass": "standard"
  },
  "nbformat": 4,
  "nbformat_minor": 5
}